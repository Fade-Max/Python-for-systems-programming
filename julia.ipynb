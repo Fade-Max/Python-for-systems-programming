{
 "cells": [
  {
   "cell_type": "markdown",
   "metadata": {},
   "source": [
    "# Julia sets"
   ]
  },
  {
   "cell_type": "code",
   "execution_count": 1,
   "metadata": {
    "ExecuteTime": {
     "end_time": "2018-11-13T08:47:27.708360Z",
     "start_time": "2018-11-13T08:47:27.290778Z"
    }
   },
   "outputs": [],
   "source": [
    "import matplotlib.pyplot as plt\n",
    "%matplotlib inline\n",
    "import numpy as np\n",
    "from pathlib import Path\n",
    "import psutil\n",
    "import sh\n",
    "import time"
   ]
  },
  {
   "cell_type": "markdown",
   "metadata": {},
   "source": [
    "Compile and build the application."
   ]
  },
  {
   "cell_type": "code",
   "execution_count": 2,
   "metadata": {
    "ExecuteTime": {
     "end_time": "2018-11-13T08:47:27.738239Z",
     "start_time": "2018-11-13T08:47:27.729183Z"
    }
   },
   "outputs": [],
   "source": [
    "application = 'julia.exe'"
   ]
  },
  {
   "cell_type": "code",
   "execution_count": 3,
   "metadata": {
    "ExecuteTime": {
     "end_time": "2018-11-13T08:47:28.066866Z",
     "start_time": "2018-11-13T08:47:27.747094Z"
    }
   },
   "outputs": [],
   "source": [
    "_ = sh.gfortran('-O2', '-fopenmp', '-o', application, 'julia_omp.f90', '-lm')"
   ]
  },
  {
   "cell_type": "markdown",
   "metadata": {},
   "source": [
    "Since the current working directory is not in the `PATH` environment variable, and the executable has a `.` in its name, a command has to be created."
   ]
  },
  {
   "cell_type": "code",
   "execution_count": 4,
   "metadata": {
    "ExecuteTime": {
     "end_time": "2018-11-13T08:47:28.098178Z",
     "start_time": "2018-11-13T08:47:28.084516Z"
    }
   },
   "outputs": [],
   "source": [
    "julia = sh.Command(Path.cwd() / application)"
   ]
  },
  {
   "cell_type": "markdown",
   "metadata": {},
   "source": [
    "Execute the application in the background and monitor user and system time and memory (RSS, Resident Set Size)."
   ]
  },
  {
   "cell_type": "code",
   "execution_count": 5,
   "metadata": {
    "ExecuteTime": {
     "end_time": "2018-11-13T08:47:28.147292Z",
     "start_time": "2018-11-13T08:47:28.110575Z"
    }
   },
   "outputs": [],
   "source": [
    "computation = julia('2000', _bg=True)"
   ]
  },
  {
   "cell_type": "code",
   "execution_count": 6,
   "metadata": {
    "ExecuteTime": {
     "end_time": "2018-11-13T08:47:33.193509Z",
     "start_time": "2018-11-13T08:47:28.160664Z"
    }
   },
   "outputs": [
    {
     "name": "stdout",
     "output_type": "stream",
     "text": [
      "user: 0.0, sys: 0.0, CPU: 0.0 %, rss: 12972032 bytes\n",
      "user: 0.34, sys: 0.04, CPU: 75.1 %, rss: 82718720 bytes\n",
      "user: 0.75, sys: 0.04, CPU: 81.7 %, rss: 82718720 bytes\n",
      "user: 1.16, sys: 0.05, CPU: 83.8 %, rss: 82718720 bytes\n",
      "user: 1.53, sys: 0.05, CPU: 73.8 %, rss: 82718720 bytes\n",
      "user: 1.9, sys: 0.05, CPU: 73.8 %, rss: 82718720 bytes\n",
      "user: 2.25, sys: 0.05, CPU: 69.8 %, rss: 82718720 bytes\n",
      "user: 2.57, sys: 0.06, CPU: 65.8 %, rss: 82718720 bytes\n",
      "user: 2.95, sys: 0.08, CPU: 79.8 %, rss: 82718720 bytes\n",
      "user: 3.26, sys: 0.08, CPU: 61.7 %, rss: 0 bytes\n"
     ]
    }
   ],
   "source": [
    "process = psutil.Process(pid=computation.pid)\n",
    "while psutil.pid_exists(process.pid):\n",
    "    times = process.cpu_times()\n",
    "    memory = process.memory_info()\n",
    "    print(f'user: {times.user}, sys: {times.system}, CPU: {process.cpu_percent()} %, rss: {memory.rss} bytes')\n",
    "    time.sleep(0.5)"
   ]
  },
  {
   "cell_type": "markdown",
   "metadata": {},
   "source": [
    "Just for fun, plot the output."
   ]
  },
  {
   "cell_type": "code",
   "execution_count": 7,
   "metadata": {
    "ExecuteTime": {
     "end_time": "2018-11-13T08:47:33.225431Z",
     "start_time": "2018-11-13T08:47:33.195537Z"
    }
   },
   "outputs": [],
   "source": [
    "data_file = 'julia.txt'"
   ]
  },
  {
   "cell_type": "code",
   "execution_count": 8,
   "metadata": {
    "ExecuteTime": {
     "end_time": "2018-11-13T08:47:38.220802Z",
     "start_time": "2018-11-13T08:47:33.239420Z"
    }
   },
   "outputs": [],
   "source": [
    "data = np.genfromtxt(data_file)"
   ]
  },
  {
   "cell_type": "code",
   "execution_count": 9,
   "metadata": {
    "ExecuteTime": {
     "end_time": "2018-11-13T08:47:38.604538Z",
     "start_time": "2018-11-13T08:47:38.253596Z"
    }
   },
   "outputs": [
    {
     "data": {
      "image/png": "[encoded data removed]",
      "text/plain": [
       "<Figure size 432x288 with 1 Axes>"
      ]
     },
     "metadata": {
      "needs_background": "light"
     },
     "output_type": "display_data"
    }
   ],
   "source": [
    "_ = plt.imshow(data)"
   ]
  },
  {
   "cell_type": "markdown",
   "metadata": {},
   "source": [
    "Cleaning up the artifacts created in this notebook."
   ]
  },
  {
   "cell_type": "code",
   "execution_count": 10,
   "metadata": {
    "ExecuteTime": {
     "end_time": "2018-11-13T08:47:38.630662Z",
     "start_time": "2018-11-13T08:47:38.616053Z"
    }
   },
   "outputs": [],
   "source": [
    "for file in map(Path, [data_file, application]):\n",
    "    file.unlink()"
   ]
  }
 ],
 "metadata": {
  "kernelspec": {
   "display_name": "Python 3",
   "language": "python",
   "name": "python3"
  },
  "language_info": {
   "codemirror_mode": {
    "name": "ipython",
    "version": 3
   },
   "file_extension": ".py",
   "mimetype": "text/x-python",
   "name": "python",
   "nbconvert_exporter": "python",
   "pygments_lexer": "ipython3",
   "version": "3.6.6"
  }
 },
 "nbformat": 4,
 "nbformat_minor": 2
}
