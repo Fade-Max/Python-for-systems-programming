{
 "cells": [
  {
   "cell_type": "markdown",
   "metadata": {},
   "source": [
    "# Intereacting with the shell"
   ]
  },
  {
   "cell_type": "markdown",
   "metadata": {},
   "source": [
    "## `sh` module"
   ]
  },
  {
   "cell_type": "markdown",
   "metadata": {},
   "source": [
    "The [`sh` module](https://amoffat.github.io/sh/) is very convenient to interact with the shell.  Note that `sh` is not part of Python's standard library, if you prefer not to use extra modules, use the `subprocess` module in the standard library."
   ]
  },
  {
   "cell_type": "code",
   "execution_count": 1,
   "metadata": {
    "ExecuteTime": {
     "end_time": "2018-11-13T07:52:04.549170Z",
     "start_time": "2018-11-13T07:52:04.532530Z"
    }
   },
   "outputs": [],
   "source": [
    "import sh"
   ]
  },
  {
   "cell_type": "markdown",
   "metadata": {},
   "source": [
    "Any shell command can be executed by calling it as a function on the `sh` module, passing command line arguments as arguments."
   ]
  },
  {
   "cell_type": "code",
   "execution_count": 2,
   "metadata": {
    "ExecuteTime": {
     "end_time": "2018-11-13T07:52:04.661511Z",
     "start_time": "2018-11-13T07:52:04.564298Z"
    }
   },
   "outputs": [
    {
     "data": {
      "text/plain": [
       "total 100\n",
       "-rw-r--r-- 1 gjb gjb 21094 Nov 13 08:49 julia.ipynb\n",
       "-rw-r--r-- 1 gjb gjb  6270 Nov 13 06:48 julia_omp.f90\n",
       "-rw-r--r-- 1 gjb gjb   675 Nov 12 13:31 README.md\n",
       "-rw-r--r-- 1 gjb gjb    86 Nov  7 17:56 README.md~\n",
       "-rw-r--r-- 1 gjb gjb 26816 Nov 13 08:51 shell_interaction.ipynb\n",
       "-rwxrw-r-- 1 gjb gjb   858 Aug 23 16:56 subprocess_environment.py\n",
       "-rwxrw-r-- 1 gjb gjb  2439 Aug 20 08:56 sys_info.py\n",
       "-rw-r--r-- 1 gjb gjb 22181 Nov 13 06:34 system_information.ipynb"
      ]
     },
     "execution_count": 2,
     "metadata": {},
     "output_type": "execute_result"
    }
   ],
   "source": [
    "sh.ls('-l')"
   ]
  },
  {
   "cell_type": "markdown",
   "metadata": {},
   "source": [
    "The output can be used by assigning the command to a variable, and using the result's `stdout` attribute.  Note that the latter is a sequence of bytes, so it has to be decoded into a UTF-8 string for further processing."
   ]
  },
  {
   "cell_type": "code",
   "execution_count": 3,
   "metadata": {
    "ExecuteTime": {
     "end_time": "2018-11-13T07:52:04.719486Z",
     "start_time": "2018-11-13T07:52:04.679934Z"
    }
   },
   "outputs": [],
   "source": [
    "cmd = sh.ls('-l', '-a', _encoding='UTF-8')"
   ]
  },
  {
   "cell_type": "code",
   "execution_count": 4,
   "metadata": {
    "ExecuteTime": {
     "end_time": "2018-11-13T07:52:04.742803Z",
     "start_time": "2018-11-13T07:52:04.728717Z"
    }
   },
   "outputs": [],
   "source": [
    "lines = cmd.stdout.decode(encoding='utf8').split('\\n')"
   ]
  },
  {
   "cell_type": "code",
   "execution_count": 5,
   "metadata": {
    "ExecuteTime": {
     "end_time": "2018-11-13T07:52:04.788489Z",
     "start_time": "2018-11-13T07:52:04.759074Z"
    }
   },
   "outputs": [
    {
     "data": {
      "text/plain": [
       "11"
      ]
     },
     "execution_count": 5,
     "metadata": {},
     "output_type": "execute_result"
    }
   ],
   "source": [
    "len(lines[1:-1])"
   ]
  },
  {
   "cell_type": "code",
   "execution_count": 6,
   "metadata": {
    "ExecuteTime": {
     "end_time": "2018-11-13T07:52:04.814798Z",
     "start_time": "2018-11-13T07:52:04.795915Z"
    }
   },
   "outputs": [
    {
     "data": {
      "text/plain": [
       "['drwxrwxr-x  3 gjb gjb  4096 Nov 13 08:51 .',\n",
       " 'drwxrwxr-x 79 gjb gjb  4096 Oct 12 15:57 ..',\n",
       " 'drwxr-xr-x  2 gjb gjb  4096 Nov 13 07:13 .ipynb_checkpoints',\n",
       " '-rw-r--r--  1 gjb gjb 21094 Nov 13 08:49 julia.ipynb',\n",
       " '-rw-r--r--  1 gjb gjb  6270 Nov 13 06:48 julia_omp.f90',\n",
       " '-rw-r--r--  1 gjb gjb   675 Nov 12 13:31 README.md',\n",
       " '-rw-r--r--  1 gjb gjb    86 Nov  7 17:56 README.md~',\n",
       " '-rw-r--r--  1 gjb gjb 26816 Nov 13 08:51 shell_interaction.ipynb',\n",
       " '-rwxrw-r--  1 gjb gjb   858 Aug 23 16:56 subprocess_environment.py',\n",
       " '-rwxrw-r--  1 gjb gjb  2439 Aug 20 08:56 sys_info.py',\n",
       " '-rw-r--r--  1 gjb gjb 22181 Nov 13 06:34 system_information.ipynb']"
      ]
     },
     "execution_count": 6,
     "metadata": {},
     "output_type": "execute_result"
    }
   ],
   "source": [
    "lines[1:-1]"
   ]
  },
  {
   "cell_type": "code",
   "execution_count": 7,
   "metadata": {
    "ExecuteTime": {
     "end_time": "2018-11-13T07:52:04.874086Z",
     "start_time": "2018-11-13T07:52:04.821184Z"
    }
   },
   "outputs": [],
   "source": [
    "_ = sh.mkdir('tmp', '-p')"
   ]
  },
  {
   "cell_type": "code",
   "execution_count": 8,
   "metadata": {
    "ExecuteTime": {
     "end_time": "2018-11-13T07:52:04.917865Z",
     "start_time": "2018-11-13T07:52:04.877385Z"
    }
   },
   "outputs": [
    {
     "data": {
      "text/plain": [
       "julia.ipynb    README.md~\t\t  sys_info.py\n",
       "julia_omp.f90  shell_interaction.ipynb\t  system_information.ipynb\n",
       "README.md      subprocess_environment.py  tmp"
      ]
     },
     "execution_count": 8,
     "metadata": {},
     "output_type": "execute_result"
    }
   ],
   "source": [
    "sh.ls()"
   ]
  },
  {
   "cell_type": "markdown",
   "metadata": {},
   "source": [
    "### Exit codes"
   ]
  },
  {
   "cell_type": "markdown",
   "metadata": {},
   "source": [
    "When a shell command fails, an exception is thrown which contains the full command as it was run, the exit code, the standard output and error."
   ]
  },
  {
   "cell_type": "code",
   "execution_count": 9,
   "metadata": {
    "ExecuteTime": {
     "end_time": "2018-11-13T07:52:04.961823Z",
     "start_time": "2018-11-13T07:52:04.923067Z"
    }
   },
   "outputs": [
    {
     "name": "stdout",
     "output_type": "stream",
     "text": [
      "command \"/bin/ls bla.txt\" exited with exit code 2 and message \"/bin/ls: cannot access 'bla.txt': No such file or directory\"\n"
     ]
    }
   ],
   "source": [
    "try:\n",
    "    sh.ls('bla.txt')\n",
    "except Exception as error:\n",
    "    err_msg = error.stderr.decode(encoding='utf8').rstrip()\n",
    "    print(f'command \"{error.full_cmd}\" exited with exit code {error.exit_code} and message \"{err_msg}\"')"
   ]
  },
  {
   "cell_type": "markdown",
   "metadata": {},
   "source": [
    "### I/O redirection"
   ]
  },
  {
   "cell_type": "markdown",
   "metadata": {},
   "source": [
    "Redirecting output can be done using the `_out` optional argument."
   ]
  },
  {
   "cell_type": "code",
   "execution_count": 10,
   "metadata": {
    "ExecuteTime": {
     "end_time": "2018-11-13T07:52:15.275617Z",
     "start_time": "2018-11-13T07:52:04.963753Z"
    }
   },
   "outputs": [],
   "source": [
    "with open('tmp/date_file.txt', 'w') as file:\n",
    "    for i in range(10):\n",
    "        print(f'{i} ', end='', file=file)\n",
    "        sh.date(_out=file)\n",
    "        sh.sleep('1')"
   ]
  },
  {
   "cell_type": "code",
   "execution_count": 11,
   "metadata": {
    "ExecuteTime": {
     "end_time": "2018-11-13T07:52:15.375623Z",
     "start_time": "2018-11-13T07:52:15.294962Z"
    }
   },
   "outputs": [
    {
     "data": {
      "text/plain": [
       "0 Tue Nov 13 08:52:05 CET 2018\n",
       "1 Tue Nov 13 08:52:06 CET 2018\n",
       "2 Tue Nov 13 08:52:07 CET 2018\n",
       "3 Tue Nov 13 08:52:08 CET 2018\n",
       "4 Tue Nov 13 08:52:09 CET 2018\n",
       "5 Tue Nov 13 08:52:10 CET 2018\n",
       "6 Tue Nov 13 08:52:11 CET 2018\n",
       "7 Tue Nov 13 08:52:12 CET 2018\n",
       "8 Tue Nov 13 08:52:13 CET 2018\n",
       "9 Tue Nov 13 08:52:14 CET 2018"
      ]
     },
     "execution_count": 11,
     "metadata": {},
     "output_type": "execute_result"
    }
   ],
   "source": [
    "sh.cat('tmp/date_file.txt')"
   ]
  },
  {
   "cell_type": "markdown",
   "metadata": {},
   "source": [
    "Input redirection works similarly using the optional `_in` argument."
   ]
  },
  {
   "cell_type": "code",
   "execution_count": 12,
   "metadata": {
    "ExecuteTime": {
     "end_time": "2018-11-13T07:52:15.445245Z",
     "start_time": "2018-11-13T07:52:15.395518Z"
    }
   },
   "outputs": [
    {
     "name": "stdout",
     "output_type": "stream",
     "text": [
      "10\n",
      "\n"
     ]
    }
   ],
   "source": [
    "with open('tmp/date_file.txt', 'r') as file:\n",
    "    print(sh.wc('-l', _in=file))"
   ]
  },
  {
   "cell_type": "markdown",
   "metadata": {},
   "source": [
    "### Piping"
   ]
  },
  {
   "cell_type": "markdown",
   "metadata": {},
   "source": [
    "The output of a command can be used as the input for another command."
   ]
  },
  {
   "cell_type": "markdown",
   "metadata": {},
   "source": [
    "Pipe the output of `ls` into `grep` to select only the files with names that end with `.py`."
   ]
  },
  {
   "cell_type": "code",
   "execution_count": 13,
   "metadata": {
    "ExecuteTime": {
     "end_time": "2018-11-13T07:52:15.576164Z",
     "start_time": "2018-11-13T07:52:15.468233Z"
    }
   },
   "outputs": [
    {
     "data": {
      "text/plain": [
       "-rwxrw-r-- 1 gjb gjb   858 Aug 23 16:56 subprocess_environment.py\n",
       "-rwxrw-r-- 1 gjb gjb  2439 Aug 20 08:56 sys_info.py"
      ]
     },
     "execution_count": 13,
     "metadata": {},
     "output_type": "execute_result"
    }
   ],
   "source": [
    "sh.grep(sh.ls('-l'), r'\\.py$')"
   ]
  },
  {
   "cell_type": "markdown",
   "metadata": {},
   "source": [
    "Pipe the output of `cut` into `sort`."
   ]
  },
  {
   "cell_type": "code",
   "execution_count": 14,
   "metadata": {
    "ExecuteTime": {
     "end_time": "2018-11-13T07:52:15.682763Z",
     "start_time": "2018-11-13T07:52:15.603545Z"
    },
    "scrolled": true
   },
   "outputs": [
    {
     "data": {
      "text/plain": [
       "08:52:14\n",
       "08:52:13\n",
       "08:52:12\n",
       "08:52:11\n",
       "08:52:10\n",
       "08:52:09\n",
       "08:52:08\n",
       "08:52:07\n",
       "08:52:06\n",
       "08:52:05"
      ]
     },
     "execution_count": 14,
     "metadata": {},
     "output_type": "execute_result"
    }
   ],
   "source": [
    "sh.sort(sh.cut('-d', ' ', '-f', '5', 'tmp/date_file.txt'), '-r')"
   ]
  },
  {
   "cell_type": "code",
   "execution_count": 15,
   "metadata": {
    "ExecuteTime": {
     "end_time": "2018-11-13T07:52:15.743729Z",
     "start_time": "2018-11-13T07:52:15.692064Z"
    }
   },
   "outputs": [],
   "source": [
    "_ = sh.rm('-r', 'tmp')"
   ]
  },
  {
   "cell_type": "markdown",
   "metadata": {},
   "source": [
    "### Backgrounding & time out"
   ]
  },
  {
   "cell_type": "markdown",
   "metadata": {},
   "source": [
    "Long running processes can be placed in the background."
   ]
  },
  {
   "cell_type": "code",
   "execution_count": 16,
   "metadata": {
    "ExecuteTime": {
     "end_time": "2018-11-13T07:52:15.796187Z",
     "start_time": "2018-11-13T07:52:15.745762Z"
    }
   },
   "outputs": [],
   "source": [
    "process = sh.sleep(10, _bg=True)"
   ]
  },
  {
   "cell_type": "code",
   "execution_count": 17,
   "metadata": {
    "ExecuteTime": {
     "end_time": "2018-11-13T07:52:15.821772Z",
     "start_time": "2018-11-13T07:52:15.809061Z"
    }
   },
   "outputs": [
    {
     "name": "stdout",
     "output_type": "stream",
     "text": [
      "0\n",
      "1\n",
      "2\n",
      "3\n",
      "4\n",
      "5\n",
      "6\n",
      "7\n",
      "8\n",
      "9\n"
     ]
    }
   ],
   "source": [
    "for i in range(10):\n",
    "    print(i)"
   ]
  },
  {
   "cell_type": "code",
   "execution_count": 18,
   "metadata": {
    "ExecuteTime": {
     "end_time": "2018-11-13T07:52:25.808206Z",
     "start_time": "2018-11-13T07:52:15.836509Z"
    }
   },
   "outputs": [
    {
     "data": {
      "text/plain": []
     },
     "execution_count": 18,
     "metadata": {},
     "output_type": "execute_result"
    }
   ],
   "source": [
    "process.wait()"
   ]
  },
  {
   "cell_type": "code",
   "execution_count": 19,
   "metadata": {
    "ExecuteTime": {
     "end_time": "2018-11-13T07:52:25.837250Z",
     "start_time": "2018-11-13T07:52:25.817035Z"
    }
   },
   "outputs": [
    {
     "name": "stdout",
     "output_type": "stream",
     "text": [
      "0\n"
     ]
    }
   ],
   "source": [
    "print(process.exit_code)"
   ]
  },
  {
   "cell_type": "markdown",
   "metadata": {},
   "source": [
    "A time out can be specified for a command, and on time out, the resulting exit code will be the number of the signal (SIGKILL by default)."
   ]
  },
  {
   "cell_type": "code",
   "execution_count": 20,
   "metadata": {
    "ExecuteTime": {
     "end_time": "2018-11-13T07:52:25.907646Z",
     "start_time": "2018-11-13T07:52:25.844862Z"
    }
   },
   "outputs": [],
   "source": [
    "try:\n",
    "    process = sh.sleep(10, _bg=True, _timeout=3)\n",
    "except TimeoutError as error:\n",
    "    print(error)"
   ]
  },
  {
   "cell_type": "markdown",
   "metadata": {},
   "source": [
    "## `subprocess` module"
   ]
  },
  {
   "cell_type": "markdown",
   "metadata": {},
   "source": [
    "If you prefer to use standard library modules only, `subprocess` is a good choice."
   ]
  },
  {
   "cell_type": "code",
   "execution_count": 21,
   "metadata": {
    "ExecuteTime": {
     "end_time": "2018-11-13T07:52:25.936520Z",
     "start_time": "2018-11-13T07:52:25.919521Z"
    }
   },
   "outputs": [],
   "source": [
    "import subprocess"
   ]
  },
  {
   "cell_type": "markdown",
   "metadata": {},
   "source": [
    "This module has a high-level function `run` that can be used for almost any processing.  The API is still being improved in subsequent releases of Python."
   ]
  },
  {
   "cell_type": "code",
   "execution_count": 22,
   "metadata": {
    "ExecuteTime": {
     "end_time": "2018-11-13T07:52:25.971603Z",
     "start_time": "2018-11-13T07:52:25.941944Z"
    }
   },
   "outputs": [],
   "source": [
    "process = subprocess.run(['ls', '-l'], stdout=subprocess.PIPE, encoding='utf8')"
   ]
  },
  {
   "cell_type": "code",
   "execution_count": 23,
   "metadata": {
    "ExecuteTime": {
     "end_time": "2018-11-13T07:52:26.002946Z",
     "start_time": "2018-11-13T07:52:25.978629Z"
    },
    "scrolled": true
   },
   "outputs": [
    {
     "data": {
      "text/plain": [
       "['total 100',\n",
       " '-rw-r--r-- 1 gjb gjb 21094 Nov 13 08:49 julia.ipynb',\n",
       " '-rw-r--r-- 1 gjb gjb  6270 Nov 13 06:48 julia_omp.f90',\n",
       " '-rw-r--r-- 1 gjb gjb   675 Nov 12 13:31 README.md',\n",
       " '-rw-r--r-- 1 gjb gjb    86 Nov  7 17:56 README.md~',\n",
       " '-rw-r--r-- 1 gjb gjb 26816 Nov 13 08:51 shell_interaction.ipynb',\n",
       " '-rwxrw-r-- 1 gjb gjb   858 Aug 23 16:56 subprocess_environment.py',\n",
       " '-rwxrw-r-- 1 gjb gjb  2439 Aug 20 08:56 sys_info.py',\n",
       " '-rw-r--r-- 1 gjb gjb 22181 Nov 13 06:34 system_information.ipynb',\n",
       " '']"
      ]
     },
     "execution_count": 23,
     "metadata": {},
     "output_type": "execute_result"
    }
   ],
   "source": [
    "process.stdout.split('\\n')"
   ]
  },
  {
   "cell_type": "markdown",
   "metadata": {},
   "source": [
    "Note that if you don't specify the `stdout` arugment, the output of the command will not be captured.  Python 3.7 makes this easier by adding a `capture_output` argument."
   ]
  },
  {
   "cell_type": "markdown",
   "metadata": {},
   "source": [
    "### Exit codes"
   ]
  },
  {
   "cell_type": "markdown",
   "metadata": {},
   "source": [
    "The `run` function returns a `CompletedProcess` object that has an attribute for the exit code returned by the process."
   ]
  },
  {
   "cell_type": "code",
   "execution_count": 24,
   "metadata": {
    "ExecuteTime": {
     "end_time": "2018-11-13T07:52:26.037322Z",
     "start_time": "2018-11-13T07:52:26.013008Z"
    }
   },
   "outputs": [],
   "source": [
    "process = subprocess.run(['mkdir', '-p', 'tmp'])"
   ]
  },
  {
   "cell_type": "code",
   "execution_count": 25,
   "metadata": {
    "ExecuteTime": {
     "end_time": "2018-11-13T07:52:26.069271Z",
     "start_time": "2018-11-13T07:52:26.053445Z"
    }
   },
   "outputs": [
    {
     "data": {
      "text/plain": [
       "0"
      ]
     },
     "execution_count": 25,
     "metadata": {},
     "output_type": "execute_result"
    }
   ],
   "source": [
    "process.returncode"
   ]
  },
  {
   "cell_type": "markdown",
   "metadata": {},
   "source": [
    "### I/O redirection"
   ]
  },
  {
   "cell_type": "markdown",
   "metadata": {},
   "source": [
    "Output of a running command can be redirected to a file."
   ]
  },
  {
   "cell_type": "code",
   "execution_count": 26,
   "metadata": {
    "ExecuteTime": {
     "end_time": "2018-11-13T07:52:36.362150Z",
     "start_time": "2018-11-13T07:52:26.078756Z"
    }
   },
   "outputs": [
    {
     "name": "stderr",
     "output_type": "stream",
     "text": [
      "Exception in thread background thread for pid 30023:\n",
      "Traceback (most recent call last):\n",
      "  File \"/home/gjb/miniconda3/envs/py36/lib/python3.6/threading.py\", line 916, in _bootstrap_inner\n",
      "    self.run()\n",
      "  File \"/home/gjb/miniconda3/envs/py36/lib/python3.6/threading.py\", line 864, in run\n",
      "    self._target(*self._args, **self._kwargs)\n",
      "  File \"/home/gjb/miniconda3/envs/py36/lib/python3.6/site-packages/sh.py\", line 1540, in wrap\n",
      "    fn(*args, **kwargs)\n",
      "  File \"/home/gjb/miniconda3/envs/py36/lib/python3.6/site-packages/sh.py\", line 2459, in background_thread\n",
      "    handle_exit_code(exit_code)\n",
      "  File \"/home/gjb/miniconda3/envs/py36/lib/python3.6/site-packages/sh.py\", line 2157, in fn\n",
      "    return self.command.handle_command_exit_code(exit_code)\n",
      "  File \"/home/gjb/miniconda3/envs/py36/lib/python3.6/site-packages/sh.py\", line 815, in handle_command_exit_code\n",
      "    raise exc\n",
      "sh.SignalException_SIGKILL: \n",
      "\n",
      "  RAN: /bin/sleep 10\n",
      "\n",
      "  STDOUT:\n",
      "\n",
      "\n",
      "  STDERR:\n",
      "\n",
      "\n"
     ]
    }
   ],
   "source": [
    "with open('tmp/data.txt', 'w') as file:\n",
    "    for i in range(10):\n",
    "        subprocess.run(['echo', '-n', str(i) + ' '], stdout=file)\n",
    "        subprocess.run(['date'], stdout=file)\n",
    "        subprocess.run(['sleep', '1'])"
   ]
  },
  {
   "cell_type": "markdown",
   "metadata": {},
   "source": [
    "Note that mixed I/O from the `print` function and `run` doesn't work as expected."
   ]
  },
  {
   "cell_type": "code",
   "execution_count": 27,
   "metadata": {
    "ExecuteTime": {
     "end_time": "2018-11-13T07:52:36.438052Z",
     "start_time": "2018-11-13T07:52:36.382001Z"
    },
    "scrolled": true
   },
   "outputs": [
    {
     "name": "stdout",
     "output_type": "stream",
     "text": [
      "0 Tue Nov 13 08:52:26 CET 2018\n",
      "1 Tue Nov 13 08:52:27 CET 2018\n",
      "2 Tue Nov 13 08:52:28 CET 2018\n",
      "3 Tue Nov 13 08:52:29 CET 2018\n",
      "4 Tue Nov 13 08:52:30 CET 2018\n",
      "5 Tue Nov 13 08:52:31 CET 2018\n",
      "6 Tue Nov 13 08:52:32 CET 2018\n",
      "7 Tue Nov 13 08:52:33 CET 2018\n",
      "8 Tue Nov 13 08:52:34 CET 2018\n",
      "9 Tue Nov 13 08:52:35 CET 2018\n",
      "\n"
     ]
    }
   ],
   "source": [
    "print(subprocess.run(['cat', 'tmp/data.txt'], stdout=subprocess.PIPE,\n",
    "                     encoding='utf8').stdout)"
   ]
  },
  {
   "cell_type": "markdown",
   "metadata": {},
   "source": [
    "Input redirection is similar."
   ]
  },
  {
   "cell_type": "code",
   "execution_count": 28,
   "metadata": {
    "ExecuteTime": {
     "end_time": "2018-11-13T07:52:36.513114Z",
     "start_time": "2018-11-13T07:52:36.456130Z"
    }
   },
   "outputs": [
    {
     "name": "stdout",
     "output_type": "stream",
     "text": [
      "10\n",
      "\n"
     ]
    }
   ],
   "source": [
    "with open('tmp/data.txt', 'r') as file:\n",
    "    process = subprocess.run(['wc', '-l'], stdin=file, stdout=subprocess.PIPE,\n",
    "                             encoding='utf8')\n",
    "    print(process.stdout)"
   ]
  },
  {
   "cell_type": "markdown",
   "metadata": {},
   "source": [
    "### Piping"
   ]
  },
  {
   "cell_type": "markdown",
   "metadata": {},
   "source": [
    "Piping can also be done using `subprocess`.  It is less user friendly than using the `sh` module, but it allows more control.  You will have to resort to the low-level `Popen` function."
   ]
  },
  {
   "cell_type": "code",
   "execution_count": 29,
   "metadata": {
    "ExecuteTime": {
     "end_time": "2018-11-13T07:52:36.591086Z",
     "start_time": "2018-11-13T07:52:36.522997Z"
    }
   },
   "outputs": [
    {
     "name": "stdout",
     "output_type": "stream",
     "text": [
      "-rwxrw-r-- 1 gjb gjb   858 Aug 23 16:56 subprocess_environment.py\n",
      "-rwxrw-r-- 1 gjb gjb  2439 Aug 20 08:56 sys_info.py\n",
      "\n"
     ]
    }
   ],
   "source": [
    "p1 = subprocess.Popen(['ls', '-l'], stdout=subprocess.PIPE)\n",
    "p2 = subprocess.Popen(['grep', r'\\.py$'], stdin=p1.stdout, stdout=subprocess.PIPE, encoding='utf8')\n",
    "p1.stdout.close()\n",
    "output, _ = p2.communicate()\n",
    "print(output)"
   ]
  },
  {
   "cell_type": "code",
   "execution_count": 30,
   "metadata": {
    "ExecuteTime": {
     "end_time": "2018-11-13T07:52:36.667769Z",
     "start_time": "2018-11-13T07:52:36.598726Z"
    },
    "scrolled": true
   },
   "outputs": [
    {
     "name": "stdout",
     "output_type": "stream",
     "text": [
      "08:52:35\n",
      "08:52:34\n",
      "08:52:33\n",
      "08:52:32\n",
      "08:52:31\n",
      "08:52:30\n",
      "08:52:29\n",
      "08:52:28\n",
      "08:52:27\n",
      "08:52:26\n",
      "\n"
     ]
    }
   ],
   "source": [
    "p1 = subprocess.Popen(['cut', '-d', ' ', '-f', '5', 'tmp/data.txt'], stdout=subprocess.PIPE)\n",
    "p2 = subprocess.Popen(['sort', '-r'], stdin=p1.stdout, stdout=subprocess.PIPE, encoding='utf8')\n",
    "p1.stdout.close()\n",
    "output, _ = p2.communicate()\n",
    "print(output)"
   ]
  },
  {
   "cell_type": "code",
   "execution_count": 31,
   "metadata": {
    "ExecuteTime": {
     "end_time": "2018-11-13T07:52:36.699719Z",
     "start_time": "2018-11-13T07:52:36.669893Z"
    }
   },
   "outputs": [],
   "source": [
    "_ = subprocess.run(['rm', '-r', 'tmp'])"
   ]
  },
  {
   "cell_type": "markdown",
   "metadata": {},
   "source": [
    "### Shell file globbing and environment variables"
   ]
  },
  {
   "cell_type": "code",
   "execution_count": 41,
   "metadata": {
    "ExecuteTime": {
     "end_time": "2018-11-13T08:01:04.049776Z",
     "start_time": "2018-11-13T08:01:04.044129Z"
    }
   },
   "outputs": [],
   "source": [
    "import os"
   ]
  },
  {
   "cell_type": "markdown",
   "metadata": {},
   "source": [
    "For file globbing to work in subprocesses, provide the entire command, including all arguments as a string, rather than a list to `run`. Also, set `shell` to `True`."
   ]
  },
  {
   "cell_type": "code",
   "execution_count": 67,
   "metadata": {
    "ExecuteTime": {
     "end_time": "2018-11-13T08:18:17.405361Z",
     "start_time": "2018-11-13T08:18:17.368247Z"
    }
   },
   "outputs": [],
   "source": [
    "process = subprocess.run('ls *.py', stdout=subprocess.PIPE, encoding='utf8', shell=True)"
   ]
  },
  {
   "cell_type": "code",
   "execution_count": 69,
   "metadata": {
    "ExecuteTime": {
     "end_time": "2018-11-13T08:18:28.962354Z",
     "start_time": "2018-11-13T08:18:28.951766Z"
    }
   },
   "outputs": [
    {
     "data": {
      "text/plain": [
       "['subprocess_environment.py', 'sys_info.py']"
      ]
     },
     "execution_count": 69,
     "metadata": {},
     "output_type": "execute_result"
    }
   ],
   "source": [
    "process.stdout.split()"
   ]
  },
  {
   "cell_type": "markdown",
   "metadata": {},
   "source": [
    "The same applies when you want environment variables to expand."
   ]
  },
  {
   "cell_type": "code",
   "execution_count": 72,
   "metadata": {
    "ExecuteTime": {
     "end_time": "2018-11-13T08:21:55.976418Z",
     "start_time": "2018-11-13T08:21:55.947087Z"
    }
   },
   "outputs": [
    {
     "name": "stdout",
     "output_type": "stream",
     "text": [
      "hello gjb\n"
     ]
    }
   ],
   "source": [
    "process = subprocess.run('echo \"hello ${USER}\"', stdout=subprocess.PIPE, encoding='utf8', shell=True)\n",
    "print(process.stdout.rstrip())"
   ]
  },
  {
   "cell_type": "markdown",
   "metadata": {},
   "source": [
    "If you need to add or modify environment variables, it is good practice to do that on a copy of `os.environ`."
   ]
  },
  {
   "cell_type": "code",
   "execution_count": 73,
   "metadata": {
    "ExecuteTime": {
     "end_time": "2018-11-13T08:24:36.249261Z",
     "start_time": "2018-11-13T08:24:36.210434Z"
    }
   },
   "outputs": [
    {
     "name": "stdout",
     "output_type": "stream",
     "text": [
      "bye gjb\n"
     ]
    }
   ],
   "source": [
    "environ = os.environ.copy()\n",
    "environ['greeting'] = 'bye'\n",
    "process = subprocess.run('echo \"${greeting} ${USER}\"', stdout=subprocess.PIPE, encoding='utf8',\n",
    "                         env=environ, shell=True)\n",
    "print(process.stdout.rstrip())"
   ]
  }
 ],
 "metadata": {
  "kernelspec": {
   "display_name": "Python 3",
   "language": "python",
   "name": "python3"
  },
  "language_info": {
   "codemirror_mode": {
    "name": "ipython",
    "version": 3
   },
   "file_extension": ".py",
   "mimetype": "text/x-python",
   "name": "python",
   "nbconvert_exporter": "python",
   "pygments_lexer": "ipython3",
   "version": "3.6.6"
  }
 },
 "nbformat": 4,
 "nbformat_minor": 2
}
