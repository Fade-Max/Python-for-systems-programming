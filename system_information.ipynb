{
 "cells": [
  {
   "cell_type": "markdown",
   "metadata": {},
   "source": [
    "\n",
    "# Information about the system & environment"
   ]
  },
  {
   "cell_type": "code",
   "execution_count": 18,
   "metadata": {
    "ExecuteTime": {
     "end_time": "2018-11-07T17:08:59.065619Z",
     "start_time": "2018-11-07T17:08:59.058695Z"
    }
   },
   "outputs": [],
   "source": [
    "import os\n",
    "import platform\n",
    "import sys\n",
    "\n",
    "import psutils"
   ]
  },
  {
   "cell_type": "markdown",
   "metadata": {},
   "source": [
    "Note that `psutil` is not in Python's standard library."
   ]
  },
  {
   "cell_type": "markdown",
   "metadata": {
    "heading_collapsed": true
   },
   "source": [
    "## Operating system"
   ]
  },
  {
   "cell_type": "markdown",
   "metadata": {
    "hidden": true
   },
   "source": [
    "Using the `platform` module, it is easy to obtain information on the platform the Python interpreter is running on."
   ]
  },
  {
   "cell_type": "markdown",
   "metadata": {
    "hidden": true
   },
   "source": [
    "Information about the machine name:"
   ]
  },
  {
   "cell_type": "code",
   "execution_count": 9,
   "metadata": {
    "ExecuteTime": {
     "end_time": "2018-11-07T17:01:34.372052Z",
     "start_time": "2018-11-07T17:01:34.363845Z"
    },
    "hidden": true
   },
   "outputs": [
    {
     "data": {
      "text/plain": [
       "'ubuntu'"
      ]
     },
     "execution_count": 9,
     "metadata": {},
     "output_type": "execute_result"
    }
   ],
   "source": [
    "platform.node()"
   ]
  },
  {
   "cell_type": "markdown",
   "metadata": {
    "hidden": true
   },
   "source": [
    "The architecture and hardware:"
   ]
  },
  {
   "cell_type": "code",
   "execution_count": 16,
   "metadata": {
    "ExecuteTime": {
     "end_time": "2018-11-07T17:06:41.810125Z",
     "start_time": "2018-11-07T17:06:41.803080Z"
    },
    "hidden": true
   },
   "outputs": [
    {
     "data": {
      "text/plain": [
       "'x86_64'"
      ]
     },
     "execution_count": 16,
     "metadata": {},
     "output_type": "execute_result"
    }
   ],
   "source": [
    "platform.processor()"
   ]
  },
  {
   "cell_type": "code",
   "execution_count": 13,
   "metadata": {
    "ExecuteTime": {
     "end_time": "2018-11-07T17:05:20.535781Z",
     "start_time": "2018-11-07T17:05:20.526762Z"
    },
    "hidden": true
   },
   "outputs": [
    {
     "data": {
      "text/plain": [
       "'little'"
      ]
     },
     "execution_count": 13,
     "metadata": {},
     "output_type": "execute_result"
    }
   ],
   "source": [
    "sys.byteorder"
   ]
  },
  {
   "cell_type": "code",
   "execution_count": 19,
   "metadata": {
    "ExecuteTime": {
     "end_time": "2018-11-07T17:17:42.190956Z",
     "start_time": "2018-11-07T17:17:42.180498Z"
    },
    "hidden": true
   },
   "outputs": [
    {
     "data": {
      "text/plain": [
       "1"
      ]
     },
     "execution_count": 19,
     "metadata": {},
     "output_type": "execute_result"
    }
   ],
   "source": [
    "os.cpu_count()"
   ]
  },
  {
   "cell_type": "code",
   "execution_count": 20,
   "metadata": {
    "ExecuteTime": {
     "end_time": "2018-11-07T17:19:05.095998Z",
     "start_time": "2018-11-07T17:19:05.087204Z"
    },
    "hidden": true
   },
   "outputs": [
    {
     "data": {
      "text/plain": [
       "{0}"
      ]
     },
     "execution_count": 20,
     "metadata": {},
     "output_type": "execute_result"
    }
   ],
   "source": [
    "os.sched_getaffinity(0)"
   ]
  },
  {
   "cell_type": "markdown",
   "metadata": {
    "hidden": true
   },
   "source": [
    "The operating system:"
   ]
  },
  {
   "cell_type": "code",
   "execution_count": 10,
   "metadata": {
    "ExecuteTime": {
     "end_time": "2018-11-07T17:02:46.685252Z",
     "start_time": "2018-11-07T17:02:46.674306Z"
    },
    "hidden": true
   },
   "outputs": [
    {
     "data": {
      "text/plain": [
       "'Linux'"
      ]
     },
     "execution_count": 10,
     "metadata": {},
     "output_type": "execute_result"
    }
   ],
   "source": [
    "platform.system()"
   ]
  },
  {
   "cell_type": "code",
   "execution_count": 14,
   "metadata": {
    "ExecuteTime": {
     "end_time": "2018-11-07T17:05:50.706170Z",
     "start_time": "2018-11-07T17:05:50.695836Z"
    },
    "hidden": true
   },
   "outputs": [
    {
     "data": {
      "text/plain": [
       "'4.15.0-38-generic'"
      ]
     },
     "execution_count": 14,
     "metadata": {},
     "output_type": "execute_result"
    }
   ],
   "source": [
    "platform.release()"
   ]
  },
  {
   "cell_type": "code",
   "execution_count": 15,
   "metadata": {
    "ExecuteTime": {
     "end_time": "2018-11-07T17:06:08.905170Z",
     "start_time": "2018-11-07T17:06:08.895919Z"
    },
    "hidden": true
   },
   "outputs": [
    {
     "data": {
      "text/plain": [
       "'#41-Ubuntu SMP Wed Oct 10 10:59:38 UTC 2018'"
      ]
     },
     "execution_count": 15,
     "metadata": {},
     "output_type": "execute_result"
    }
   ],
   "source": [
    "platform.version()"
   ]
  },
  {
   "cell_type": "code",
   "execution_count": 17,
   "metadata": {
    "ExecuteTime": {
     "end_time": "2018-11-07T17:07:42.032586Z",
     "start_time": "2018-11-07T17:07:41.999498Z"
    },
    "hidden": true
   },
   "outputs": [
    {
     "data": {
      "text/plain": [
       "('debian', 'buster/sid', '')"
      ]
     },
     "execution_count": 17,
     "metadata": {},
     "output_type": "execute_result"
    }
   ],
   "source": [
    "platform.linux_distribution()"
   ]
  },
  {
   "cell_type": "code",
   "execution_count": 6,
   "metadata": {
    "ExecuteTime": {
     "end_time": "2018-11-07T16:59:32.439184Z",
     "start_time": "2018-11-07T16:59:32.416272Z"
    },
    "hidden": true
   },
   "outputs": [
    {
     "data": {
      "text/plain": [
       "'Linux-4.15.0-38-generic-x86_64-with-debian-buster-sid'"
      ]
     },
     "execution_count": 6,
     "metadata": {},
     "output_type": "execute_result"
    }
   ],
   "source": [
    "platform.platform()"
   ]
  },
  {
   "cell_type": "markdown",
   "metadata": {
    "heading_collapsed": true
   },
   "source": [
    "## Numerics"
   ]
  },
  {
   "cell_type": "markdown",
   "metadata": {
    "hidden": true
   },
   "source": [
    "The properties of floating point numbers can be obtained easily from the `sys.floatinfo` object."
   ]
  },
  {
   "cell_type": "markdown",
   "metadata": {
    "hidden": true
   },
   "source": [
    "The largest floating point value that can be represented, the smallest positive non-zero value:"
   ]
  },
  {
   "cell_type": "code",
   "execution_count": 4,
   "metadata": {
    "ExecuteTime": {
     "end_time": "2018-11-07T16:54:44.353554Z",
     "start_time": "2018-11-07T16:54:44.345656Z"
    },
    "hidden": true
   },
   "outputs": [
    {
     "name": "stdout",
     "output_type": "stream",
     "text": [
      "1.7976931348623157e+308 2.2250738585072014e-308\n"
     ]
    }
   ],
   "source": [
    "print(sys.float_info.max, sys.float_info.min)"
   ]
  },
  {
   "cell_type": "markdown",
   "metadata": {
    "hidden": true
   },
   "source": [
    "The number of significant digits of a floating point value:"
   ]
  },
  {
   "cell_type": "code",
   "execution_count": 2,
   "metadata": {
    "ExecuteTime": {
     "end_time": "2018-11-07T16:50:48.061351Z",
     "start_time": "2018-11-07T16:50:48.023608Z"
    },
    "hidden": true
   },
   "outputs": [
    {
     "data": {
      "text/plain": [
       "15"
      ]
     },
     "execution_count": 2,
     "metadata": {},
     "output_type": "execute_result"
    }
   ],
   "source": [
    "sys.float_info.dig"
   ]
  },
  {
   "cell_type": "markdown",
   "metadata": {
    "heading_collapsed": true
   },
   "source": [
    "## Processes"
   ]
  },
  {
   "cell_type": "markdown",
   "metadata": {
    "hidden": true
   },
   "source": [
    "Detailed information is available on the processes running on the system."
   ]
  },
  {
   "cell_type": "code",
   "execution_count": 26,
   "metadata": {
    "ExecuteTime": {
     "end_time": "2018-11-12T12:59:13.616730Z",
     "start_time": "2018-11-12T12:59:13.383013Z"
    },
    "hidden": true,
    "scrolled": false
   },
   "outputs": [
    {
     "name": "stdout",
     "output_type": "stream",
     "text": [
      "2089: systemd (threads: 1, user: 0.16, sys: 0.13)\n",
      "2090: (sd-pam) (threads: 1, user: 0.0, sys: 0.0)\n",
      "2103: gnome-keyring-daemon (threads: 4, user: 0.39, sys: 0.11)\n",
      "2107: gdm-x-session (threads: 3, user: 0.0, sys: 0.01)\n",
      "2109: Xorg (threads: 2, user: 60.06, sys: 84.17)\n",
      "2116: dbus-daemon (threads: 1, user: 0.54, sys: 0.3)\n",
      "2120: gnome-session-binary (threads: 4, user: 0.12, sys: 0.25)\n",
      "2227: ssh-agent (threads: 1, user: 0.05, sys: 0.15)\n",
      "2229: at-spi-bus-launcher (threads: 4, user: 0.0, sys: 0.02)\n",
      "2234: dbus-daemon (threads: 1, user: 0.12, sys: 0.05)\n",
      "2237: at-spi2-registryd (threads: 3, user: 0.59, sys: 0.52)\n",
      "2250: gvfsd (threads: 3, user: 0.04, sys: 0.01)\n",
      "2255: gvfsd-fuse (threads: 6, user: 0.0, sys: 0.0)\n",
      "2272: gnome-shell (threads: 10, user: 1727.11, sys: 268.63)\n",
      "2281: pulseaudio (threads: 3, user: 0.49, sys: 7.16)\n",
      "2292: ibus-daemon (threads: 3, user: 21.9, sys: 6.38)\n",
      "2296: ibus-dconf (threads: 4, user: 0.0, sys: 0.01)\n",
      "2298: ibus-x11 (threads: 3, user: 0.19, sys: 0.09)\n",
      "2300: ibus-portal (threads: 3, user: 0.02, sys: 0.02)\n",
      "2312: gnome-shell-calendar-server (threads: 6, user: 0.06, sys: 0.05)\n",
      "2316: evolution-source-registry (threads: 4, user: 0.02, sys: 0.11)\n",
      "2324: goa-daemon (threads: 4, user: 0.16, sys: 0.15)\n",
      "2341: gvfs-udisks2-volume-monitor (threads: 3, user: 0.05, sys: 0.03)\n",
      "2345: goa-identity-service (threads: 4, user: 0.05, sys: 0.09)\n",
      "2354: gvfs-gphoto2-volume-monitor (threads: 3, user: 0.0, sys: 0.01)\n",
      "2358: gvfs-afc-volume-monitor (threads: 4, user: 0.0, sys: 0.01)\n",
      "2363: gvfs-mtp-volume-monitor (threads: 3, user: 0.0, sys: 0.01)\n",
      "2367: gvfs-goa-volume-monitor (threads: 3, user: 0.0, sys: 0.01)\n",
      "2372: gsd-power (threads: 4, user: 0.26, sys: 0.21)\n",
      "2374: gsd-print-notifications (threads: 3, user: 0.02, sys: 0.03)\n",
      "2375: gsd-rfkill (threads: 3, user: 0.04, sys: 0.02)\n",
      "2377: gsd-screensaver-proxy (threads: 3, user: 0.0, sys: 0.01)\n",
      "2378: gsd-sharing (threads: 4, user: 0.26, sys: 0.07)\n",
      "2380: gsd-sound (threads: 4, user: 0.01, sys: 0.02)\n",
      "2383: gsd-xsettings (threads: 4, user: 0.31, sys: 0.14)\n",
      "2386: gsd-wacom (threads: 3, user: 0.23, sys: 0.13)\n",
      "2387: gsd-smartcard (threads: 5, user: 0.02, sys: 0.01)\n",
      "2403: gsd-clipboard (threads: 3, user: 0.4, sys: 0.25)\n",
      "2405: gsd-color (threads: 4, user: 6.15, sys: 2.23)\n",
      "2406: gsd-a11y-settings (threads: 4, user: 0.01, sys: 0.01)\n",
      "2407: gsd-housekeeping (threads: 4, user: 1.27, sys: 0.66)\n",
      "2409: gsd-keyboard (threads: 4, user: 0.18, sys: 0.14)\n",
      "2411: gsd-datetime (threads: 4, user: 0.0, sys: 0.05)\n",
      "2413: gsd-mouse (threads: 4, user: 0.01, sys: 0.02)\n",
      "2414: gsd-media-keys (threads: 4, user: 0.28, sys: 0.17)\n",
      "2449: gsd-locate-pointer (threads: 3, user: 0.26, sys: 0.15)\n",
      "2451: gsd-printer (threads: 3, user: 0.01, sys: 0.02)\n",
      "2475: indicator-application-service (threads: 3, user: 0.01, sys: 0.03)\n",
      "2476: vmtoolsd (threads: 4, user: 43.36, sys: 15.79)\n",
      "2477: gsd-disk-utility-notify (threads: 3, user: 0.01, sys: 0.02)\n",
      "2478: nautilus-desktop (threads: 4, user: 5.89, sys: 4.85)\n",
      "2479: indicator-messages-service (threads: 4, user: 0.0, sys: 0.02)\n",
      "2505: gvfsd-trash (threads: 3, user: 0.33, sys: 0.34)\n",
      "2519: evolution-calendar-factory (threads: 5, user: 0.16, sys: 0.37)\n",
      "2528: dconf-service (threads: 3, user: 0.04, sys: 0.02)\n",
      "2545: evolution-calendar-factory-subprocess (threads: 9, user: 0.29, sys: 0.04)\n",
      "2557: evolution-addressbook-factory (threads: 5, user: 0.01, sys: 0.03)\n",
      "2569: evolution-addressbook-factory-subprocess (threads: 6, user: 0.06, sys: 0.08)\n",
      "2584: ibus-engine-simple (threads: 3, user: 7.54, sys: 1.91)\n",
      "2652: zeitgeist-datahub (threads: 4, user: 0.17, sys: 0.49)\n",
      "2663: zeitgeist-daemon (threads: 3, user: 0.08, sys: 0.06)\n",
      "2669: zeitgeist-fts (threads: 3, user: 0.05, sys: 0.04)\n",
      "2741: update-notifier (threads: 4, user: 1.02, sys: 0.38)\n",
      "2743: gnome-software (threads: 4, user: 9.8, sys: 2.34)\n",
      "2892: deja-dup-monitor (threads: 4, user: 0.07, sys: 0.12)\n",
      "2912: ssh-agent (threads: 1, user: 0.04, sys: 0.02)\n",
      "3477: gvfsd-metadata (threads: 3, user: 0.0, sys: 0.01)\n",
      "16494: gnome-terminal-server (threads: 4, user: 7.01, sys: 2.03)\n",
      "16504: bash (threads: 1, user: 0.04, sys: 0.03)\n",
      "16682: ZMQbg/1 (threads: 3, user: 10.6, sys: 2.48)\n",
      "16695: chrome (threads: 30, user: 136.4, sys: 54.01)\n",
      "16701: cat (threads: 1, user: 0.0, sys: 0.0)\n",
      "16702: cat (threads: 1, user: 0.0, sys: 0.0)\n",
      "16705: chrome (threads: 1, user: 0.19, sys: 0.07)\n",
      "16706: nacl_helper (threads: 1, user: 0.0, sys: 0.0)\n",
      "16709: chrome (threads: 1, user: 0.03, sys: 0.19)\n",
      "16745: chrome (threads: 7, user: 43.86, sys: 69.11)\n",
      "16794: chrome (threads: 1, user: 0.0, sys: 0.0)\n",
      "16801: chrome (threads: 13, user: 521.74, sys: 102.91)\n",
      "16803: chrome (threads: 10, user: 0.62, sys: 0.16)\n",
      "16858: chrome (threads: 10, user: 0.54, sys: 0.22)\n",
      "16944: chrome (threads: 11, user: 3.36, sys: 0.86)\n",
      "16953: chrome (threads: 10, user: 26.46, sys: 4.59)\n",
      "16958: chrome (threads: 10, user: 1.39, sys: 0.21)\n",
      "16974: chrome (threads: 10, user: 0.75, sys: 0.2)\n",
      "17008: nacl_helper (threads: 10, user: 0.07, sys: 0.13)\n",
      "18898: zeal (threads: 10, user: 5.39, sys: 1.96)\n",
      "21766: bash (threads: 1, user: 0.07, sys: 0.0)\n",
      "22676: bash (threads: 1, user: 0.08, sys: 0.05)\n",
      "23289: bash (threads: 1, user: 0.03, sys: 0.01)\n",
      "23533: ZMQbg/1 (threads: 9, user: 1.82, sys: 0.72)\n",
      "23797: chrome (threads: 12, user: 13.82, sys: 3.47)\n",
      "23807: chrome (threads: 10, user: 0.02, sys: 0.01)\n",
      "24032: chrome (threads: 11, user: 0.18, sys: 0.03)\n"
     ]
    }
   ],
   "source": [
    "for process in psutil.process_iter():\n",
    "    if 'gjb' in process.username():\n",
    "        cpu_times = process.cpu_times()\n",
    "        thread_str = f'threads: {process.num_threads()}'\n",
    "        cpu_str = f'user: {cpu_times.user}, sys: {cpu_times.system}'\n",
    "        print(f'{process.pid}: {process.name()} ({thread_str}, {cpu_str})')"
   ]
  },
  {
   "cell_type": "markdown",
   "metadata": {
    "hidden": true
   },
   "source": [
    "CPU times are cumulative over the process' life time."
   ]
  },
  {
   "cell_type": "code",
   "execution_count": 28,
   "metadata": {
    "ExecuteTime": {
     "end_time": "2018-11-12T13:01:24.027363Z",
     "start_time": "2018-11-12T13:01:23.935324Z"
    },
    "hidden": true
   },
   "outputs": [
    {
     "name": "stdout",
     "output_type": "stream",
     "text": [
      "vmtoolsd: 18.13\n",
      "snapd: 4.69\n",
      "dbus-daemon: 3.19\n",
      "dockerd: 45.21\n",
      "docker-containerd: 26.17\n",
      "gnome-shell: 30.3\n",
      "Xwayland: 20.83\n",
      "packagekitd: 23.36\n",
      "gsd-color: 6.5\n",
      "Xorg: 60.43\n",
      "gnome-shell: 1731.97\n",
      "ibus-daemon: 22.12\n",
      "gsd-color: 6.18\n",
      "vmtoolsd: 43.48\n",
      "nautilus-desktop: 5.89\n",
      "ibus-engine-simple: 7.62\n",
      "gnome-software: 9.81\n",
      "gnome-terminal-server: 7.03\n",
      "ZMQbg/1: 10.69\n",
      "chrome: 138.51\n",
      "chrome: 44.74\n",
      "chrome: 532.83\n",
      "chrome: 3.39\n",
      "chrome: 26.69\n",
      "zeal: 5.41\n",
      "chrome: 13.82\n"
     ]
    }
   ],
   "source": [
    "for process in psutil.process_iter():\n",
    "    if process.cpu_times().user > 2.5:\n",
    "        print(f'{process.name()}: {process.cpu_times().user}')"
   ]
  },
  {
   "cell_type": "markdown",
   "metadata": {
    "hidden": true
   },
   "source": [
    "It is easy to kill processes, so you might want to be careful."
   ]
  },
  {
   "cell_type": "code",
   "execution_count": 31,
   "metadata": {
    "ExecuteTime": {
     "end_time": "2018-11-12T13:55:42.525140Z",
     "start_time": "2018-11-12T13:55:42.420751Z"
    },
    "hidden": true
   },
   "outputs": [
    {
     "name": "stdout",
     "output_type": "stream",
     "text": [
      "killing zeal...\n",
      "killed:  18898\n"
     ]
    }
   ],
   "source": [
    "name = 'zeal'\n",
    "killed_pids = []\n",
    "for process in psutil.process_iter():\n",
    "    if name == process.name():\n",
    "        print(f'killing {name}...')\n",
    "        killed_pids.append(process.pid)\n",
    "        process.kill()\n",
    "print('killed: ', ', '.join(map(str, killed_pids)))"
   ]
  },
  {
   "cell_type": "markdown",
   "metadata": {
    "heading_collapsed": true
   },
   "source": [
    "## Performance"
   ]
  },
  {
   "cell_type": "markdown",
   "metadata": {
    "hidden": true
   },
   "source": [
    "The `psutil` module makes quite some interesting statistics related to system performance available. This can be useful when writing monitoring tools."
   ]
  },
  {
   "cell_type": "markdown",
   "metadata": {
    "hidden": true
   },
   "source": [
    "The cumulative times for user, nice, system and so on are readily available."
   ]
  },
  {
   "cell_type": "code",
   "execution_count": 32,
   "metadata": {
    "ExecuteTime": {
     "end_time": "2018-11-12T13:58:46.086214Z",
     "start_time": "2018-11-12T13:58:46.046843Z"
    },
    "hidden": true
   },
   "outputs": [
    {
     "data": {
      "text/plain": [
       "scputimes(user=2992.29, nice=67.76, system=919.06, idle=58311.66, iowait=76.19, irq=0.0, softirq=12.07, steal=0.0, guest=0.0, guest_nice=0.0)"
      ]
     },
     "execution_count": 32,
     "metadata": {},
     "output_type": "execute_result"
    }
   ],
   "source": [
    "psutil.cpu_times()"
   ]
  },
  {
   "cell_type": "markdown",
   "metadata": {
    "hidden": true
   },
   "source": [
    "Memory usage can be queried."
   ]
  },
  {
   "cell_type": "code",
   "execution_count": 33,
   "metadata": {
    "ExecuteTime": {
     "end_time": "2018-11-12T13:59:18.736545Z",
     "start_time": "2018-11-12T13:59:18.726563Z"
    },
    "hidden": true
   },
   "outputs": [
    {
     "data": {
      "text/plain": [
       "svmem(total=4112015360, available=1358479360, percent=67.0, used=2459013120, free=474349568, active=1601912832, inactive=935960576, buffers=344289280, cached=834363392, shared=19922944, slab=262770688)"
      ]
     },
     "execution_count": 33,
     "metadata": {},
     "output_type": "execute_result"
    }
   ],
   "source": [
    "psutil.virtual_memory()"
   ]
  },
  {
   "cell_type": "markdown",
   "metadata": {
    "hidden": true
   },
   "source": [
    "Disk I/O measures such as the total IOP and read/write sizes in byte are easy to obain."
   ]
  },
  {
   "cell_type": "code",
   "execution_count": 35,
   "metadata": {
    "ExecuteTime": {
     "end_time": "2018-11-12T14:00:55.751179Z",
     "start_time": "2018-11-12T14:00:55.737932Z"
    },
    "hidden": true
   },
   "outputs": [
    {
     "data": {
      "text/plain": [
       "sdiskio(read_count=462764, write_count=114006, read_bytes=5862454272, write_bytes=3719344128, read_time=328092, write_time=831264, read_merged_count=72280, write_merged_count=176461, busy_time=213560)"
      ]
     },
     "execution_count": 35,
     "metadata": {},
     "output_type": "execute_result"
    }
   ],
   "source": [
    "psutil.disk_io_counters()"
   ]
  },
  {
   "cell_type": "markdown",
   "metadata": {
    "hidden": true
   },
   "source": [
    "Network I/O can similarly be monitored."
   ]
  },
  {
   "cell_type": "code",
   "execution_count": 49,
   "metadata": {
    "ExecuteTime": {
     "end_time": "2018-11-12T14:12:03.107639Z",
     "start_time": "2018-11-12T14:12:03.088969Z"
    },
    "hidden": true
   },
   "outputs": [
    {
     "data": {
      "text/plain": [
       "snetio(bytes_sent=21116518, bytes_recv=86326034, packets_sent=61886, packets_recv=102453, errin=0, errout=0, dropin=0, dropout=0)"
      ]
     },
     "execution_count": 49,
     "metadata": {},
     "output_type": "execute_result"
    }
   ],
   "source": [
    "psutil.net_io_counters()"
   ]
  },
  {
   "cell_type": "markdown",
   "metadata": {
    "hidden": true
   },
   "source": [
    "Disk usage for all partitions can be queried."
   ]
  },
  {
   "cell_type": "code",
   "execution_count": 48,
   "metadata": {
    "ExecuteTime": {
     "end_time": "2018-11-12T14:10:38.964333Z",
     "start_time": "2018-11-12T14:10:38.952773Z"
    },
    "hidden": true
   },
   "outputs": [
    {
     "name": "stdout",
     "output_type": "stream",
     "text": [
      "/: 77.5\n",
      "/var/lib/docker/aufs: 77.5\n"
     ]
    }
   ],
   "source": [
    "for partition in psutil.disk_partitions():\n",
    "    mountpoint = partition.mountpoint\n",
    "    if 'snap' not in mountpoint:\n",
    "        print(f'{mountpoint}: {psutil.disk_usage(mountpoint).percent:.1f}')"
   ]
  }
 ],
 "metadata": {
  "kernelspec": {
   "display_name": "Python 3",
   "language": "python",
   "name": "python3"
  },
  "language_info": {
   "codemirror_mode": {
    "name": "ipython",
    "version": 3
   },
   "file_extension": ".py",
   "mimetype": "text/x-python",
   "name": "python",
   "nbconvert_exporter": "python",
   "pygments_lexer": "ipython3",
   "version": "3.6.6"
  }
 },
 "nbformat": 4,
 "nbformat_minor": 2
}
