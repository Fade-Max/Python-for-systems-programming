{
 "cells": [
  {
   "cell_type": "markdown",
   "metadata": {},
   "source": [
    "\n",
    "# Information about the system & environment"
   ]
  },
  {
   "cell_type": "code",
   "execution_count": null,
   "metadata": {
    "ExecuteTime": {
     "end_time": "2018-11-07T17:08:59.065619Z",
     "start_time": "2018-11-07T17:08:59.058695Z"
    }
   },
   "outputs": [],
   "source": [
    "import os\n",
    "import platform\n",
    "import sys\n",
    "\n",
    "import psutil"
   ]
  },
  {
   "cell_type": "markdown",
   "metadata": {},
   "source": [
    "Note that `psutil` is not in Python's standard library."
   ]
  },
  {
   "cell_type": "markdown",
   "metadata": {
    "heading_collapsed": true
   },
   "source": [
    "## Operating system"
   ]
  },
  {
   "cell_type": "markdown",
   "metadata": {
    "hidden": true
   },
   "source": [
    "Using the `platform` module, it is easy to obtain information on the platform the Python interpreter is running on."
   ]
  },
  {
   "cell_type": "markdown",
   "metadata": {
    "hidden": true
   },
   "source": [
    "Information about the machine name:"
   ]
  },
  {
   "cell_type": "code",
   "execution_count": null,
   "metadata": {
    "ExecuteTime": {
     "end_time": "2018-11-07T17:01:34.372052Z",
     "start_time": "2018-11-07T17:01:34.363845Z"
    },
    "hidden": true
   },
   "outputs": [],
   "source": [
    "platform.node()"
   ]
  },
  {
   "cell_type": "markdown",
   "metadata": {
    "hidden": true
   },
   "source": [
    "The architecture and hardware:"
   ]
  },
  {
   "cell_type": "code",
   "execution_count": null,
   "metadata": {
    "ExecuteTime": {
     "end_time": "2018-11-07T17:06:41.810125Z",
     "start_time": "2018-11-07T17:06:41.803080Z"
    },
    "hidden": true
   },
   "outputs": [],
   "source": [
    "platform.processor()"
   ]
  },
  {
   "cell_type": "code",
   "execution_count": null,
   "metadata": {
    "ExecuteTime": {
     "end_time": "2018-11-07T17:05:20.535781Z",
     "start_time": "2018-11-07T17:05:20.526762Z"
    },
    "hidden": true
   },
   "outputs": [],
   "source": [
    "sys.byteorder"
   ]
  },
  {
   "cell_type": "code",
   "execution_count": null,
   "metadata": {
    "ExecuteTime": {
     "end_time": "2018-11-07T17:17:42.190956Z",
     "start_time": "2018-11-07T17:17:42.180498Z"
    },
    "hidden": true
   },
   "outputs": [],
   "source": [
    "os.cpu_count()"
   ]
  },
  {
   "cell_type": "code",
   "execution_count": null,
   "metadata": {
    "ExecuteTime": {
     "end_time": "2018-11-07T17:19:05.095998Z",
     "start_time": "2018-11-07T17:19:05.087204Z"
    },
    "hidden": true
   },
   "outputs": [],
   "source": [
    "os.sched_getaffinity(0)"
   ]
  },
  {
   "cell_type": "markdown",
   "metadata": {
    "hidden": true
   },
   "source": [
    "The operating system:"
   ]
  },
  {
   "cell_type": "code",
   "execution_count": null,
   "metadata": {
    "ExecuteTime": {
     "end_time": "2018-11-07T17:02:46.685252Z",
     "start_time": "2018-11-07T17:02:46.674306Z"
    },
    "hidden": true
   },
   "outputs": [],
   "source": [
    "platform.system()"
   ]
  },
  {
   "cell_type": "code",
   "execution_count": null,
   "metadata": {
    "ExecuteTime": {
     "end_time": "2018-11-07T17:05:50.706170Z",
     "start_time": "2018-11-07T17:05:50.695836Z"
    },
    "hidden": true
   },
   "outputs": [],
   "source": [
    "platform.release()"
   ]
  },
  {
   "cell_type": "code",
   "execution_count": null,
   "metadata": {
    "ExecuteTime": {
     "end_time": "2018-11-07T17:06:08.905170Z",
     "start_time": "2018-11-07T17:06:08.895919Z"
    },
    "hidden": true
   },
   "outputs": [],
   "source": [
    "platform.version()"
   ]
  },
  {
   "cell_type": "code",
   "execution_count": null,
   "metadata": {
    "ExecuteTime": {
     "end_time": "2018-11-07T17:07:42.032586Z",
     "start_time": "2018-11-07T17:07:41.999498Z"
    },
    "hidden": true
   },
   "outputs": [],
   "source": [
    "platform.linux_distribution()"
   ]
  },
  {
   "cell_type": "code",
   "execution_count": null,
   "metadata": {
    "ExecuteTime": {
     "end_time": "2018-11-07T16:59:32.439184Z",
     "start_time": "2018-11-07T16:59:32.416272Z"
    },
    "hidden": true
   },
   "outputs": [],
   "source": [
    "platform.platform()"
   ]
  },
  {
   "cell_type": "markdown",
   "metadata": {
    "heading_collapsed": true
   },
   "source": [
    "## Numerics"
   ]
  },
  {
   "cell_type": "markdown",
   "metadata": {
    "hidden": true
   },
   "source": [
    "The properties of floating point numbers can be obtained easily from the `sys.floatinfo` object."
   ]
  },
  {
   "cell_type": "markdown",
   "metadata": {
    "hidden": true
   },
   "source": [
    "The largest floating point value that can be represented, the smallest positive non-zero value:"
   ]
  },
  {
   "cell_type": "code",
   "execution_count": null,
   "metadata": {
    "ExecuteTime": {
     "end_time": "2018-11-07T16:54:44.353554Z",
     "start_time": "2018-11-07T16:54:44.345656Z"
    },
    "hidden": true
   },
   "outputs": [],
   "source": [
    "print(sys.float_info.max, sys.float_info.min)"
   ]
  },
  {
   "cell_type": "markdown",
   "metadata": {
    "hidden": true
   },
   "source": [
    "The number of significant digits of a floating point value:"
   ]
  },
  {
   "cell_type": "code",
   "execution_count": null,
   "metadata": {
    "ExecuteTime": {
     "end_time": "2018-11-07T16:50:48.061351Z",
     "start_time": "2018-11-07T16:50:48.023608Z"
    },
    "hidden": true
   },
   "outputs": [],
   "source": [
    "sys.float_info.dig"
   ]
  },
  {
   "cell_type": "markdown",
   "metadata": {
    "heading_collapsed": true
   },
   "source": [
    "## Processes"
   ]
  },
  {
   "cell_type": "markdown",
   "metadata": {
    "hidden": true
   },
   "source": [
    "Detailed information is available on the processes running on the system."
   ]
  },
  {
   "cell_type": "code",
   "execution_count": null,
   "metadata": {
    "ExecuteTime": {
     "end_time": "2018-11-12T12:59:13.616730Z",
     "start_time": "2018-11-12T12:59:13.383013Z"
    },
    "hidden": true,
    "scrolled": false
   },
   "outputs": [],
   "source": [
    "for process in psutil.process_iter():\n",
    "    if 'gjb' in process.username():\n",
    "        cpu_times = process.cpu_times()\n",
    "        thread_str = f'threads: {process.num_threads()}'\n",
    "        cpu_str = f'user: {cpu_times.user}, sys: {cpu_times.system}'\n",
    "        print(f'{process.pid}: {process.name()} ({thread_str}, {cpu_str})')"
   ]
  },
  {
   "cell_type": "markdown",
   "metadata": {
    "hidden": true
   },
   "source": [
    "CPU times are cumulative over the process' life time."
   ]
  },
  {
   "cell_type": "code",
   "execution_count": null,
   "metadata": {
    "ExecuteTime": {
     "end_time": "2018-11-12T13:01:24.027363Z",
     "start_time": "2018-11-12T13:01:23.935324Z"
    },
    "hidden": true
   },
   "outputs": [],
   "source": [
    "for process in psutil.process_iter():\n",
    "    if process.cpu_times().user > 2.5:\n",
    "        print(f'{process.name()}: {process.cpu_times().user}')"
   ]
  },
  {
   "cell_type": "markdown",
   "metadata": {
    "hidden": true
   },
   "source": [
    "It is easy to kill processes, so you might want to be careful."
   ]
  },
  {
   "cell_type": "code",
   "execution_count": null,
   "metadata": {
    "ExecuteTime": {
     "end_time": "2018-11-12T13:55:42.525140Z",
     "start_time": "2018-11-12T13:55:42.420751Z"
    },
    "hidden": true
   },
   "outputs": [],
   "source": [
    "name = 'zeal'\n",
    "killed_pids = []\n",
    "for process in psutil.process_iter():\n",
    "    if name == process.name():\n",
    "        print(f'killing {name}...')\n",
    "        killed_pids.append(process.pid)\n",
    "        process.kill()\n",
    "print('killed: ', ', '.join(map(str, killed_pids)))"
   ]
  },
  {
   "cell_type": "markdown",
   "metadata": {
    "heading_collapsed": true
   },
   "source": [
    "## Performance"
   ]
  },
  {
   "cell_type": "markdown",
   "metadata": {
    "hidden": true
   },
   "source": [
    "The `psutil` module makes quite some interesting statistics related to system performance available. This can be useful when writing monitoring tools."
   ]
  },
  {
   "cell_type": "markdown",
   "metadata": {
    "hidden": true
   },
   "source": [
    "The cumulative times for user, nice, system and so on are readily available."
   ]
  },
  {
   "cell_type": "code",
   "execution_count": null,
   "metadata": {
    "ExecuteTime": {
     "end_time": "2018-11-12T13:58:46.086214Z",
     "start_time": "2018-11-12T13:58:46.046843Z"
    },
    "hidden": true
   },
   "outputs": [],
   "source": [
    "psutil.cpu_times()"
   ]
  },
  {
   "cell_type": "markdown",
   "metadata": {
    "hidden": true
   },
   "source": [
    "Memory usage can be queried."
   ]
  },
  {
   "cell_type": "code",
   "execution_count": null,
   "metadata": {
    "ExecuteTime": {
     "end_time": "2018-11-12T13:59:18.736545Z",
     "start_time": "2018-11-12T13:59:18.726563Z"
    },
    "hidden": true
   },
   "outputs": [],
   "source": [
    "psutil.virtual_memory()"
   ]
  },
  {
   "cell_type": "markdown",
   "metadata": {
    "hidden": true
   },
   "source": [
    "Disk I/O measures such as the total IOP and read/write sizes in byte are easy to obain."
   ]
  },
  {
   "cell_type": "code",
   "execution_count": null,
   "metadata": {
    "ExecuteTime": {
     "end_time": "2018-11-12T14:00:55.751179Z",
     "start_time": "2018-11-12T14:00:55.737932Z"
    },
    "hidden": true
   },
   "outputs": [],
   "source": [
    "psutil.disk_io_counters()"
   ]
  },
  {
   "cell_type": "markdown",
   "metadata": {
    "hidden": true
   },
   "source": [
    "Network I/O can similarly be monitored."
   ]
  },
  {
   "cell_type": "code",
   "execution_count": null,
   "metadata": {
    "ExecuteTime": {
     "end_time": "2018-11-12T14:12:03.107639Z",
     "start_time": "2018-11-12T14:12:03.088969Z"
    },
    "hidden": true
   },
   "outputs": [],
   "source": [
    "psutil.net_io_counters()"
   ]
  },
  {
   "cell_type": "markdown",
   "metadata": {
    "hidden": true
   },
   "source": [
    "Disk usage for all partitions can be queried."
   ]
  },
  {
   "cell_type": "code",
   "execution_count": null,
   "metadata": {
    "ExecuteTime": {
     "end_time": "2018-11-12T14:10:38.964333Z",
     "start_time": "2018-11-12T14:10:38.952773Z"
    },
    "hidden": true
   },
   "outputs": [],
   "source": [
    "for partition in psutil.disk_partitions():\n",
    "    mountpoint = partition.mountpoint\n",
    "    if 'snap' not in mountpoint:\n",
    "        print(f'{mountpoint}: {psutil.disk_usage(mountpoint).percent:.1f}')"
   ]
  }
 ],
 "metadata": {
  "kernelspec": {
   "display_name": "Python 3",
   "language": "python",
   "name": "python3"
  },
  "language_info": {
   "codemirror_mode": {
    "name": "ipython",
    "version": 3
   },
   "file_extension": ".py",
   "mimetype": "text/x-python",
   "name": "python",
   "nbconvert_exporter": "python",
   "pygments_lexer": "ipython3",
   "version": "3.7.0"
  }
 },
 "nbformat": 4,
 "nbformat_minor": 2
}
